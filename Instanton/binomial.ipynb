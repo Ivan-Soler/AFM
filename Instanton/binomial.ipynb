{
 "cells": [
  {
   "cell_type": "code",
   "execution_count": null,
   "id": "166e8d25-870a-4496-b810-b8e2b59aa00b",
   "metadata": {},
   "outputs": [
    {
     "data": {
      "text/plain": [
       "<module 'tools' from '/home/ivan/AFM/Instanton/tools.py'>"
      ]
     },
     "execution_count": 15,
     "metadata": {},
     "output_type": "execute_result"
    }
   ],
   "source": [
    "import matplotlib.pyplot as plt\n",
    "import numpy as np\n",
    "import tools\n",
    "import importlib\n",
    "import sys\n",
    "import math\n",
    "importlib.reload(tools)"
   ]
  },
  {
   "cell_type": "code",
   "execution_count": 18,
   "id": "b4c0a52e-a585-4864-bdd2-e6ab8f07f935",
   "metadata": {},
   "outputs": [],
   "source": [
    "a=np.array([[1,2],[3,4]])\n",
    "if [3,4] not in a:\n",
    "    print(a)"
   ]
  },
  {
   "cell_type": "code",
   "execution_count": 2,
   "id": "9fd5527c-2bd1-4fe7-94e4-397453b45444",
   "metadata": {},
   "outputs": [
    {
     "ename": "FileNotFoundError",
     "evalue": "[Errno 2] No such file or directory: './runns4nt32b2.6nr32_test_data/data_inst.txt'",
     "output_type": "error",
     "traceback": [
      "\u001b[0;31m---------------------------------------------------------------------------\u001b[0m",
      "\u001b[0;31mFileNotFoundError\u001b[0m                         Traceback (most recent call last)",
      "\u001b[0;32m/tmp/ipykernel_53761/3121993015.py\u001b[0m in \u001b[0;36m<module>\u001b[0;34m\u001b[0m\n\u001b[0;32m----> 1\u001b[0;31m \u001b[0mfile\u001b[0m\u001b[0;34m=\u001b[0m\u001b[0mopen\u001b[0m\u001b[0;34m(\u001b[0m\u001b[0;34m\"./runns4nt32b2.6nr32_test_data/data_inst.txt\"\u001b[0m\u001b[0;34m,\u001b[0m\u001b[0;34m\"r\"\u001b[0m\u001b[0;34m)\u001b[0m\u001b[0;34m\u001b[0m\u001b[0;34m\u001b[0m\u001b[0m\n\u001b[0m\u001b[1;32m      2\u001b[0m \u001b[0mdata\u001b[0m\u001b[0;34m=\u001b[0m\u001b[0;34m[\u001b[0m\u001b[0;34m]\u001b[0m\u001b[0;34m\u001b[0m\u001b[0;34m\u001b[0m\u001b[0m\n\u001b[1;32m      3\u001b[0m \u001b[0mfile\u001b[0m\u001b[0;34m.\u001b[0m\u001b[0mreadline\u001b[0m\u001b[0;34m(\u001b[0m\u001b[0;34m)\u001b[0m\u001b[0;34m\u001b[0m\u001b[0;34m\u001b[0m\u001b[0m\n\u001b[1;32m      4\u001b[0m \u001b[0mfile\u001b[0m\u001b[0;34m.\u001b[0m\u001b[0mreadline\u001b[0m\u001b[0;34m(\u001b[0m\u001b[0;34m)\u001b[0m\u001b[0;34m\u001b[0m\u001b[0;34m\u001b[0m\u001b[0m\n\u001b[1;32m      5\u001b[0m \u001b[0;32mfor\u001b[0m \u001b[0mline\u001b[0m \u001b[0;32min\u001b[0m \u001b[0mfile\u001b[0m\u001b[0;34m:\u001b[0m\u001b[0;34m\u001b[0m\u001b[0;34m\u001b[0m\u001b[0m\n",
      "\u001b[0;31mFileNotFoundError\u001b[0m: [Errno 2] No such file or directory: './runns4nt32b2.6nr32_test_data/data_inst.txt'"
     ]
    }
   ],
   "source": [
    "file=open(\"./runns4nt32b2.6nr32_test_data/data_inst.txt\",\"r\")\n",
    "data=[]\n",
    "file.readline()\n",
    "file.readline()\n",
    "for line in file:\n",
    "    line=line.replace(\"\\n\",\"\")\n",
    "    line=line.replace(\"\\t \\t\",\" \\t\")\n",
    "    split=line.split(\"\\t\")\n",
    "    data.append(split)\n",
    "file.close()\n",
    "\n",
    "data=np.array(data,dtype=float)\n",
    "Q=[]\n",
    "N=[]\n",
    "for element in data:\n",
    "    if not (element[1]+element[2])%2:\n",
    "        Q.append(int(element[1]-element[2]))\n",
    "        N.append(int(element[1]+element[2]))\n",
    "    \n",
    "N_hist=np.zeros(1+max(N),dtype=int)\n",
    "for element in N:\n",
    "    N_hist[int(element)]+=1\n",
    "    \n",
    "Q_hist=np.zeros(1+max(N),dtype=int)\n",
    "for element in Q:\n",
    "    Q_hist[int(element)]+=1\n",
    "    \n",
    "odd=np.arange(1,max(N)+1,2, dtype=int)\n",
    "even=np.arange(0,max(N)+2,2, dtype=int)\n",
    "N_hist=np.delete(N_hist,odd)"
   ]
  },
  {
   "cell_type": "code",
   "execution_count": null,
   "id": "b09d13a7-20db-4b37-a06a-80e95c3e8653",
   "metadata": {},
   "outputs": [],
   "source": [
    "from distfit import distfit"
   ]
  },
  {
   "cell_type": "code",
   "execution_count": null,
   "id": "985def43-be05-4742-a5c6-40b1c411c09c",
   "metadata": {},
   "outputs": [],
   "source": [
    "from scipy.stats import binom\n",
    "from scipy import stats\n",
    "import scipy\n",
    "import pandas as pd"
   ]
  },
  {
   "cell_type": "code",
   "execution_count": null,
   "id": "aab0295c-d827-48bf-9087-eb0e80bcabde",
   "metadata": {},
   "outputs": [],
   "source": [
    "def binomial(x,Nt,A):\n",
    "    temp=math.factorial(Nt)/(math.factorial(int(x))*math.factorial(int(Nt-x)))\n",
    "    result=(A**(x))*((1/(1+A))**Nt)*temp\n",
    "    return(result)\n",
    "\n",
    "def binomial_p(x,Nt,p):\n",
    "    temp=math.factorial(Nt)/(math.factorial(int(x))*math.factorial(int(Nt-x)))\n",
    "    print(temp)\n",
    "    result=(p**x)*((1-p)**(Nt-x))\n",
    "    print(result)\n",
    "    return(result)"
   ]
  },
  {
   "cell_type": "code",
   "execution_count": null,
   "id": "cc17b642-6016-47f4-a186-7ee02776291a",
   "metadata": {},
   "outputs": [],
   "source": [
    "Nt=32*32\n",
    "bounds = [(Nt, Nt), (0, 1)]\n",
    "dist = stats.binom\n",
    "res = stats.fit(dist, N, bounds)\n",
    "res.params"
   ]
  },
  {
   "cell_type": "code",
   "execution_count": null,
   "id": "1f8117ab-5d75-4e0a-92e2-0ae4c20ab609",
   "metadata": {},
   "outputs": [],
   "source": [
    "plt.plot(even,y)\n",
    "plt.scatter(even,N_hist/len(data))\n",
    "plt.xlim(-1,10)\n",
    "plt.plot(even, 2*binom.pmf(even, res.params[0], res.params[1]), 'x', ms=8, label='binom pmf')"
   ]
  },
  {
   "cell_type": "code",
   "execution_count": null,
   "id": "47774501-01a4-40b4-bae6-c9180340b6eb",
   "metadata": {},
   "outputs": [],
   "source": []
  }
 ],
 "metadata": {
  "kernelspec": {
   "display_name": "Python 3 (ipykernel)",
   "language": "python",
   "name": "python3"
  },
  "language_info": {
   "codemirror_mode": {
    "name": "ipython",
    "version": 3
   },
   "file_extension": ".py",
   "mimetype": "text/x-python",
   "name": "python",
   "nbconvert_exporter": "python",
   "pygments_lexer": "ipython3",
   "version": "3.8.10"
  }
 },
 "nbformat": 4,
 "nbformat_minor": 5
}
