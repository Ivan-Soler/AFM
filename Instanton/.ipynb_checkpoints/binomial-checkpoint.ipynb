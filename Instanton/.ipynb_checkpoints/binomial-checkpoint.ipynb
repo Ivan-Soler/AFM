{
 "cells": [
  {
   "cell_type": "code",
   "execution_count": 9,
   "id": "166e8d25-870a-4496-b810-b8e2b59aa00b",
   "metadata": {},
   "outputs": [
    {
     "data": {
      "text/plain": [
       "<module 'tools' from '/home/ivan/AFM/Instanton/tools.py'>"
      ]
     },
     "execution_count": 9,
     "metadata": {},
     "output_type": "execute_result"
    }
   ],
   "source": [
    "import matplotlib.pyplot as plt\n",
    "import numpy as np\n",
    "import tools\n",
    "import importlib\n",
    "from scipy.optimize import curve_fit\n",
    "import sys\n",
    "import math\n",
    "importlib.reload(tools)"
   ]
  },
  {
   "cell_type": "code",
   "execution_count": 35,
   "id": "9fd5527c-2bd1-4fe7-94e4-397453b45444",
   "metadata": {},
   "outputs": [],
   "source": [
    "file=open(\"./runns4nt32b2.6nr32_test_data/data_inst.txt\",\"r\")\n",
    "data=[]\n",
    "file.readline()\n",
    "file.readline()\n",
    "for line in file:\n",
    "    line=line.replace(\"\\n\",\"\")\n",
    "    line=line.replace(\"\\t \\t\",\" \\t\")\n",
    "    split=line.split(\"\\t\")\n",
    "    data.append(split)\n",
    "file.close()\n",
    "\n",
    "data=np.array(data,dtype=float)\n",
    "Q=[]\n",
    "N=[]\n",
    "for element in data:\n",
    "    if not (element[1]+element[2])%2:\n",
    "        Q.append(int(element[1]-element[2]))\n",
    "        N.append(int(element[1]+element[2]))\n",
    "    \n",
    "N_hist=np.zeros(1+max(N),dtype=int)\n",
    "for element in N:\n",
    "    N_hist[int(element)]+=1\n",
    "    \n",
    "Q_hist=np.zeros(1+max(N),dtype=int)\n",
    "for element in Q:\n",
    "    Q_hist[int(element)]+=1\n",
    "    \n",
    "odd=np.arange(1,max(N)+1,2, dtype=int)\n",
    "even=np.arange(0,max(N)+2,2, dtype=int)\n",
    "N_hist=np.delete(N_hist,odd)"
   ]
  },
  {
   "cell_type": "code",
   "execution_count": 36,
   "id": "b09d13a7-20db-4b37-a06a-80e95c3e8653",
   "metadata": {},
   "outputs": [],
   "source": [
    "from distfit import distfit"
   ]
  },
  {
   "cell_type": "code",
   "execution_count": 37,
   "id": "985def43-be05-4742-a5c6-40b1c411c09c",
   "metadata": {},
   "outputs": [],
   "source": [
    "from scipy.stats import binom\n",
    "from scipy import stats\n",
    "import scipy\n",
    "import pandas as pd"
   ]
  },
  {
   "cell_type": "code",
   "execution_count": 39,
   "id": "aab0295c-d827-48bf-9087-eb0e80bcabde",
   "metadata": {},
   "outputs": [],
   "source": [
    "def binomial(x,Nt,A):\n",
    "    temp=math.factorial(Nt)/(math.factorial(int(x))*math.factorial(int(Nt-x)))\n",
    "    result=(A**(x))*((1/(1+A))**Nt)*temp\n",
    "    return(result)\n",
    "\n",
    "def binomial_p(x,Nt,p):\n",
    "    temp=math.factorial(Nt)/(math.factorial(int(x))*math.factorial(int(Nt-x)))\n",
    "    print(temp)\n",
    "    result=(p**x)*((1-p)**(Nt-x))\n",
    "    print(result)\n",
    "    return(result)"
   ]
  },
  {
   "cell_type": "code",
   "execution_count": 117,
   "id": "cc17b642-6016-47f4-a186-7ee02776291a",
   "metadata": {},
   "outputs": [
    {
     "data": {
      "text/plain": [
       "FitParams(n=1024.0, p=0.0030966911547095737, loc=0.0)"
      ]
     },
     "execution_count": 117,
     "metadata": {},
     "output_type": "execute_result"
    }
   ],
   "source": [
    "Nt=32*32\n",
    "bounds = [(Nt, Nt), (0, 1)]\n",
    "dist = stats.binom\n",
    "res = stats.fit(dist, N, bounds)\n",
    "res.params"
   ]
  },
  {
   "cell_type": "code",
   "execution_count": 118,
   "id": "1f8117ab-5d75-4e0a-92e2-0ae4c20ab609",
   "metadata": {},
   "outputs": [
    {
     "data": {
      "text/plain": [
       "[<matplotlib.lines.Line2D at 0x7f878eb9c520>]"
      ]
     },
     "execution_count": 118,
     "metadata": {},
     "output_type": "execute_result"
    },
    {
     "data": {
      "image/png": "[encoded data removed]",
      "text/plain": [
       "<Figure size 432x288 with 1 Axes>"
      ]
     },
     "metadata": {
      "needs_background": "light"
     },
     "output_type": "display_data"
    }
   ],
   "source": [
    "plt.plot(even,y)\n",
    "plt.scatter(even,N_hist/len(data))\n",
    "plt.xlim(-1,10)\n",
    "plt.plot(even, 2*binom.pmf(even, res.params[0], res.params[1]), 'x', ms=8, label='binom pmf')"
   ]
  },
  {
   "cell_type": "code",
   "execution_count": null,
   "id": "47774501-01a4-40b4-bae6-c9180340b6eb",
   "metadata": {},
   "outputs": [],
   "source": []
  }
 ],
 "metadata": {
  "kernelspec": {
   "display_name": "Python 3 (ipykernel)",
   "language": "python",
   "name": "python3"
  },
  "language_info": {
   "codemirror_mode": {
    "name": "ipython",
    "version": 3
   },
   "file_extension": ".py",
   "mimetype": "text/x-python",
   "name": "python",
   "nbconvert_exporter": "python",
   "pygments_lexer": "ipython3",
   "version": "3.8.10"
  }
 },
 "nbformat": 4,
 "nbformat_minor": 5
}
