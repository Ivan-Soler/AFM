{
 "cells": [
  {
   "cell_type": "code",
   "execution_count": 1,
   "id": "8d5f92fe-af59-4259-87a0-9df33d01d665",
   "metadata": {},
   "outputs": [
    {
     "data": {
      "text/plain": [
       "<module 'tools' from '/home/ivan/AFM/Instanton/tools.py'>"
      ]
     },
     "execution_count": 1,
     "metadata": {},
     "output_type": "execute_result"
    }
   ],
   "source": [
    "import matplotlib.pyplot as plt\n",
    "import numpy as np\n",
    "import tools\n",
    "import importlib\n",
    "from scipy.optimize import curve_fit\n",
    "import sys\n",
    "import math\n",
    "importlib.reload(tools)"
   ]
  },
  {
   "cell_type": "code",
   "execution_count": 2,
   "id": "660c3e50-060e-4941-ba3d-58088ba0a768",
   "metadata": {},
   "outputs": [],
   "source": [
    "importlib.reload(tools)\n",
    "eps_rho=0.8\n",
    "eps_norm=0.8\n",
    "eps_action=eps_norm\n",
    "rho=3.745091\n",
    "norm=0.744\n",
    "norm_action=norm\n",
    "size_local=5\n",
    "neigh=1\n",
    "#file=\"../runns6nt45b2.7nr45/t3.1/profile4dt3.1c528to.dat\"\n",
    "\n",
    "#file_top=\"../Smooth/45x6/profile4dt0c5to.dat\"\n",
    "#file_act=\"../Smooth/45x6/profile4dt0c5en.dat\"\n",
    "#file_top=\"../Smooth/45x6_georg/6288/profile4dt4c0to.dat\"\n",
    "#file_act=\"../Smooth/45x6_georg/6288/profile4dt4c0en.dat\"\n",
    "#file=\"../Smooth/45x6_georg/profile4dt16c0to.dat\"\n",
    "\n",
    "file_top=\"../Smooth/45x6/profile4dt0c5to.dat\"\n",
    "file_act=file_top\n",
    "\n",
    "#file_top=\"../dataprofiles50/profile4dt50c560to.dat\"\n",
    "#file_act=file_top\n",
    "\n",
    "#file_top=\"../runns6nt45b2.7nr45/t3.9/profile4dt3.1c432to.dat\"\n",
    "#file_top=\"../runns6nt45b2.7nr45/t3.9/profile4dt3.1c432to.dat\"\n",
    "\n",
    "\n",
    "top_density,sizes=tools.read_top(file_top)\n",
    "act_density,sizes=tools.read_top(file_act)\n",
    "\n",
    "density_2d_top,sizes_big,index_smal=tools.projection_2d(top_density,sizes)\n",
    "density_2d_act,sizes_big,index_smal=tools.projection_2d(act_density,sizes)\n",
    "\n",
    "\n",
    "inst, a_inst, frac, a_frac, t_frac, t_inst, total=tools.find_inst_2d(density_2d_top,\n",
    "                        density_2d_act,sizes_big,rho,norm,norm_action,eps_rho,eps_norm,eps_action,neigh)\n",
    "\n",
    "#tools.plot_dens_2d(file_top,density_2d_top,sizes_big,t_frac)\n",
    "#tools.plot_dens_2d(file_act,density_2d_act,sizes_big,t_frac)"
   ]
  },
  {
   "cell_type": "code",
   "execution_count": 3,
   "id": "d9858dd0-829d-4489-bcf5-cb9d3e2158bf",
   "metadata": {},
   "outputs": [
    {
     "name": "stdout",
     "output_type": "stream",
     "text": [
      "[ 6  6 45 45]\n"
     ]
    }
   ],
   "source": [
    "print(sizes)"
   ]
  },
  {
   "cell_type": "code",
   "execution_count": 12,
   "id": "dd2765bf-3ded-4ce9-90ff-cd767a142169",
   "metadata": {},
   "outputs": [
    {
     "data": {
      "text/plain": [
       "array([22.95211659, 22.56476694,  3.74509179,  0.74464495])"
      ]
     },
     "execution_count": 12,
     "metadata": {},
     "output_type": "execute_result"
    }
   ],
   "source": [
    "frac[0][2]"
   ]
  },
  {
   "cell_type": "code",
   "execution_count": 5,
   "id": "bcd52605-f118-4f90-b469-6981eea068f7",
   "metadata": {},
   "outputs": [],
   "source": [
    "def inst_plot(position,maxima_x,maxima_y,rho,norm):\n",
    "    #maxim=[23,23]\n",
    "    return(norm/(5*2*np.pi*np.pi/(16*rho**3))*(rho/((position[0]-maxima_x)**2\n",
    "                        + (position[1]-maxima_y)**2+rho**2))**4)"
   ]
  },
  {
   "cell_type": "code",
   "execution_count": 6,
   "id": "630ac660-0fa1-4e43-af70-f1cddde839d4",
   "metadata": {},
   "outputs": [],
   "source": [
    "x=[]\n",
    "y=[]\n",
    "data=[]\n",
    "neigh=1\n",
    "maxima=frac[0]\n",
    "for i in range(-neigh,neigh+1):\n",
    "    for j in range(-neigh,neigh+1):\n",
    "        x=(int(maxima[0])+i)%sizes_big[0]\n",
    "        y=(int(maxima[1])+j)%sizes_big[1]\n",
    "        data.append([x,y,density_2d_top[x,y]])\n",
    "data=np.array(data)"
   ]
  },
  {
   "cell_type": "code",
   "execution_count": 7,
   "id": "7af96729-8cad-4676-a2ef-678afe58f6ce",
   "metadata": {},
   "outputs": [],
   "source": [
    "if density_2d_top[maxima[0],maxima[1]]<0:\n",
    "    density_2d_top=-density_2d_top\n",
    "popt=tools.fit_inst(density_2d_top,maxima,neigh,sizes_big)"
   ]
  },
  {
   "cell_type": "code",
   "execution_count": 8,
   "id": "247c3476-cc47-42ca-a615-6d48928b3882",
   "metadata": {},
   "outputs": [
    {
     "name": "stdout",
     "output_type": "stream",
     "text": [
      "[1, 1] 22.952116590096544 22.564766940164628 3.7450917948058873 0.7446449545732993\n"
     ]
    }
   ],
   "source": [
    "rho_templ=3.745091\n",
    "norm_templ=0.744\n",
    "print([i,j],popt[0],popt[1],popt[2],popt[3])"
   ]
  },
  {
   "cell_type": "code",
   "execution_count": 9,
   "id": "3543441d-83c3-4728-92d2-2292c8bbf72c",
   "metadata": {},
   "outputs": [
    {
     "name": "stdout",
     "output_type": "stream",
     "text": [
      "[1, 1] 22.952116590096544 22.564766940164628 3.7450917948058873 0.7446449545732993\n"
     ]
    }
   ],
   "source": [
    "rho_templ=3.745091\n",
    "norm_templ=0.744\n",
    "print([i,j],popt[0],popt[1],popt[2],popt[3])"
   ]
  },
  {
   "cell_type": "code",
   "execution_count": null,
   "id": "e74186d3-edb3-4cbf-9ae5-6faeb528ff86",
   "metadata": {},
   "outputs": [],
   "source": []
  },
  {
   "cell_type": "code",
   "execution_count": 10,
   "id": "f28675c4-1e2c-4093-8820-c0fdb455906f",
   "metadata": {},
   "outputs": [],
   "source": [
    "data_plot=np.zeros((sizes_big[0],sizes_big[1]))\n",
    "for i in range(0,sizes_big[0]):\n",
    "    for j in range(0,sizes_big[1]):\n",
    "        data_plot[i,j]=inst_plot([i,j],popt[0],popt[1],popt[2],popt[3])"
   ]
  },
  {
   "cell_type": "code",
   "execution_count": 122,
   "id": "37b9e455-7936-45f2-b8d7-8c4cd9f81f4a",
   "metadata": {},
   "outputs": [
    {
     "data": {
      "image/png": "[encoded data removed]",
      "text/plain": [
       "<Figure size 432x288 with 1 Axes>"
      ]
     },
     "metadata": {
      "needs_background": "light"
     },
     "output_type": "display_data"
    }
   ],
   "source": [
    "data_plot_1d=data_plot.sum(axis=1)\n",
    "density_1d=density_2d_top.sum(axis=1)\n",
    "\n",
    "plt.xlabel(\"x\")\n",
    "plt.ylabel(\"q(x)\")\n",
    "\n",
    "plt.plot(density_1d, color=\"purple\", label=\"Data\")\n",
    "plt.plot(data_plot_1d, color=\"green\", \n",
    "         label=\"Fit\")\n",
    "plt.legend(loc=\"upper right\")\n",
    "\n",
    "plt.savefig(\"Smooth_45x6_fit.png\", dpi=150)"
   ]
  },
  {
   "cell_type": "code",
   "execution_count": null,
   "id": "b64b9d0f-72cf-4729-9aeb-8bf1e8ebac52",
   "metadata": {},
   "outputs": [],
   "source": []
  },
  {
   "cell_type": "code",
   "execution_count": null,
   "id": "95615ed7-ea1c-4bfa-9912-b02f58879166",
   "metadata": {},
   "outputs": [],
   "source": []
  },
  {
   "cell_type": "code",
   "execution_count": null,
   "id": "90395fc4-5ca8-4ea8-ae51-aa988af5a290",
   "metadata": {},
   "outputs": [],
   "source": []
  },
  {
   "cell_type": "code",
   "execution_count": null,
   "id": "1045742a-ddd5-47be-9bef-ed1ce596dd1d",
   "metadata": {},
   "outputs": [],
   "source": []
  }
 ],
 "metadata": {
  "kernelspec": {
   "display_name": "Python 3 (ipykernel)",
   "language": "python",
   "name": "python3"
  },
  "language_info": {
   "codemirror_mode": {
    "name": "ipython",
    "version": 3
   },
   "file_extension": ".py",
   "mimetype": "text/x-python",
   "name": "python",
   "nbconvert_exporter": "python",
   "pygments_lexer": "ipython3",
   "version": "3.8.10"
  }
 },
 "nbformat": 4,
 "nbformat_minor": 5
}
