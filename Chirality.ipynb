{
 "cells": [
  {
   "cell_type": "code",
   "execution_count": 16,
   "id": "013d85b5-3040-48fd-a8e7-d0011789f3ae",
   "metadata": {},
   "outputs": [],
   "source": [
    "import matplotlib.pyplot as plt\n",
    "import numpy as np\n",
    "import analyzer\n",
    "import Compare\n",
    "import Read\n",
    "import Maxima\n",
    "import array\n",
    "import re\n",
    "import os\n",
    "import sys\n",
    "import pickle\n",
    "import matplotlib.patches as mpatches\n",
    "from matplotlib.lines import Line2D\n",
    "import importlib\n",
    "import timeit\n",
    "import struct\n",
    "import Plot_generator\n",
    "from timeit import default_timer as timer\n",
    "importlib.reload(Compare)\n",
    "importlib.reload(analyzer)\n",
    "importlib.reload(Read)\n",
    "importlib.reload(Maxima)\n",
    "importlib.reload(Plot_generator)\n",
    "plt.rcParams.update({'font.size': 12})\n",
    "plt.rcParams.update({\"text.usetex\": True, \"font.size\": 16})"
   ]
  },
  {
   "cell_type": "code",
   "execution_count": 27,
   "id": "2605f98f-c754-4bec-b3e6-dda7d556fc0c",
   "metadata": {},
   "outputs": [],
   "source": [
    "spin_length=4\n",
    "folder_0=\"/ssd/ivsol/filtering/8x8x8x64_su2/gf/\"\n",
    "folder=\"/ssd/ivsol/filtering/8x8x8x64_su2/160/\"\n",
    "conf='160'\n",
    "sizes=[8,8,8,64]\n",
    "colors=3\n",
    "spin_lenth=4\n",
    "susy_mode_1=zeromode=np.zeros((colors, spin_length,sizes[0],sizes[1],sizes[2],sizes[3]),dtype=np.complex_)\n",
    "for i in range(2,3):\n",
    "    mode,density,sizes=Read.ascii_mode(folder+\"sector_1/OverlapMode\"+str(conf)+\"_\"+str(i))\n",
    "    susy_mode_1+=mode\n",
    "    \n",
    "\n",
    "susy_mode_0=zeromode=np.zeros((colors, spin_length,sizes[0],sizes[1],sizes[2],sizes[3]),dtype=np.complex_)\n",
    "for i in range(2,3):\n",
    "    mode,density,sizes=Read.ascii_mode(folder+\"sector_0/OverlapMode\"+str(conf)+\"_\"+str(i))\n",
    "    susy_mode_0+=mode\n"
   ]
  },
  {
   "cell_type": "code",
   "execution_count": 28,
   "id": "9902b379-c200-444d-8b1e-1e246713c96c",
   "metadata": {},
   "outputs": [],
   "source": [
    "psi=(susy_mode_1+susy_mode_0)/2\n",
    "g5psi=(susy_mode_1-susy_mode_0)/2"
   ]
  },
  {
   "cell_type": "code",
   "execution_count": 29,
   "id": "fb849d25-ddae-402f-b354-94e839d67663",
   "metadata": {},
   "outputs": [
    {
     "data": {
      "text/plain": [
       "(9.422045853855418e-09j, [8, 8, 8, 64])"
      ]
     },
     "execution_count": 29,
     "metadata": {},
     "output_type": "execute_result"
    }
   ],
   "source": [
    "importlib.reload(Read)\n",
    "Read.scalar_product(psi, g5psi,sizes,colors,spin_lenth)"
   ]
  },
  {
   "cell_type": "code",
   "execution_count": 49,
   "id": "c2ff5da5-3ffa-47cf-ae0c-c1c89d1a7c18",
   "metadata": {},
   "outputs": [],
   "source": [
    "spin_length=4\n",
    "folder=\"/ssd/ivsol/filtering/heated/overlap/complex/\"\n",
    "sizes=[8,8,8,64]\n",
    "colors=3\n",
    "spin_lenth=4\n",
    "susy_mode_1=zeromode=np.zeros((colors, spin_length,sizes[0],sizes[1],sizes[2],sizes[3]),dtype=np.complex_)\n",
    "\n",
    "mode_1,density,sizes=Read.ascii_mode(folder+\"OverlapMode5\"+\"_\"+str(0))\n",
    "mode_2,density,sizes=Read.ascii_mode(folder+\"OverlapMode5\"+\"_\"+str(2))\n",
    "\n",
    "\n",
    "#susy_mode_0=zeromode=np.zeros((colors, spin_length,sizes[0],sizes[1],sizes[2],sizes[3]),dtype=np.complex_)\n",
    "#for i in range(2,3):\n",
    "#    mode,density,sizes=Read.ascii_mode(folder+\"OverlapMode\"+str(conf)+\"_\"+str(i))\n",
    "#    susy_mode_0+=mode\n"
   ]
  },
  {
   "cell_type": "code",
   "execution_count": 50,
   "id": "ea23c144-7309-4445-9057-fea1d3f80e16",
   "metadata": {},
   "outputs": [
    {
     "data": {
      "text/plain": [
       "((8.836266337601946e-09+1.4014397213468907e-08j), [8, 8, 8, 8])"
      ]
     },
     "execution_count": 50,
     "metadata": {},
     "output_type": "execute_result"
    }
   ],
   "source": [
    "Read.scalar_product(mode_1, mode_2,sizes,colors,spin_lenth)"
   ]
  },
  {
   "cell_type": "code",
   "execution_count": null,
   "id": "7fe37cf2-6c8c-4865-ab1c-03733d71582d",
   "metadata": {},
   "outputs": [],
   "source": []
  }
 ],
 "metadata": {
  "kernelspec": {
   "display_name": "Python 3 (ipykernel)",
   "language": "python",
   "name": "python3"
  },
  "language_info": {
   "codemirror_mode": {
    "name": "ipython",
    "version": 3
   },
   "file_extension": ".py",
   "mimetype": "text/x-python",
   "name": "python",
   "nbconvert_exporter": "python",
   "pygments_lexer": "ipython3",
   "version": "3.8.12"
  }
 },
 "nbformat": 4,
 "nbformat_minor": 5
}
