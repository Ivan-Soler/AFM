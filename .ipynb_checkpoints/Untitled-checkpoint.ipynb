{
 "cells": [
  {
   "cell_type": "code",
   "execution_count": 1,
   "id": "b2f03407-7704-4aae-b4c6-64d749686bf4",
   "metadata": {},
   "outputs": [],
   "source": [
    "import matplotlib.pyplot as plt\n",
    "import numpy as np\n",
    "import analyzer\n",
    "import Compare\n",
    "import Read\n",
    "import Maxima\n",
    "import array\n",
    "import re\n",
    "import os\n",
    "import sys\n",
    "import pickle\n",
    "import ast \n",
    "import matplotlib.patches as mpatches\n",
    "from matplotlib.lines import Line2D\n",
    "import importlib\n",
    "import timeit\n",
    "import struct\n",
    "import Plot_generator\n",
    "from timeit import default_timer as timer\n",
    "importlib.reload(Compare)\n",
    "importlib.reload(analyzer)\n",
    "importlib.reload(Read)\n",
    "importlib.reload(Maxima)\n",
    "importlib.reload(Plot_generator)\n",
    "plt.rcParams.update({'font.size': 12})\n",
    "plt.rcParams.update({\"text.usetex\": False, \"font.size\": 16})\n"
   ]
  },
  {
   "cell_type": "markdown",
   "id": "42378431-1a41-4507-a50d-32cc9eea7ed2",
   "metadata": {},
   "source": [
    "## GF + APE"
   ]
  },
  {
   "cell_type": "code",
   "execution_count": 3,
   "id": "1cd10e92-35fc-4167-9c8a-faa87bf86ec8",
   "metadata": {},
   "outputs": [],
   "source": [
    "directory=\"/home/ivan/ssd/4x4x4x32/b2p44_new/gf_ape_afm_0p5t\""
   ]
  },
  {
   "cell_type": "markdown",
   "id": "47eb8630-bb3d-44df-afbb-8218cd5fbfc3",
   "metadata": {},
   "source": [
    "## Polyakov against threshold"
   ]
  },
  {
   "cell_type": "code",
   "execution_count": 17,
   "id": "dbd93164-e48d-4be6-a4d0-e0028952280f",
   "metadata": {},
   "outputs": [],
   "source": [
    "#From the susy plot\n",
    "sizes=[4,4,4,32]\n",
    "directory_th=\"../ssd/4x4x4x32/b2p44_new/gf_afm_0p5t/\"\n",
    "directory_pol=\"../ssd/4x4x4x32/b2p44_new/compare_poly/gf_afm_0p5t/\"\n",
    "directory_out=\"../ssd/4x4x4x32/b2p44_new/compare_poly_thresh/\"\n",
    "for file in os.listdir(directory_th):\n",
    "    if \"c.txt\" in file:\n",
    "        #print(file)\n",
    "        mode_num=\"\"\n",
    "        for char in file:\n",
    "            if char.isdigit():\n",
    "                mode_num+=char\n",
    "        susy_file=open(directory_th+file)\n",
    "        data=susy_file.read().split(\"\\n\")\n",
    "        data.pop()\n",
    "        susy_th=np.array(data, dtype=float)\n",
    "        susy_file.close()\n",
    "\n",
    "        susy_file=open(directory_pol+file)\n",
    "        data=susy_file.read().split(\"\\n\")\n",
    "        data.pop()\n",
    "        susy_pol=np.array(data, dtype=float)\n",
    "        susy_file.close()\n",
    "        \n",
    "        #Read GF\n",
    "        Topology_1=\"../ssd/4x4x4x32/b2p44_new/gf/profile4dt1c\"+mode_num+\"to.dat\"\n",
    "        density_top_1,sizes=Read.topology_1d(Topology_1)\n",
    "        \n",
    "        #Plot the thre densities\n",
    "        plt.plot(density_top_1, label='top. density t=1')\n",
    "        plt.plot(susy_th+0.02, label='Cut')\n",
    "        plt.plot(susy_pol, label='Polyakov')\n",
    "        plt.legend(loc=\"lower left\", ncol=2)\n",
    "        plt.savefig(directory_out+\"./susy_mode_\"+mode_num+\"c.png\",dpi=150, bbox_inches='tight')\n",
    "        plt.close()   "
   ]
  },
  {
   "cell_type": "code",
   "execution_count": null,
   "id": "ae7cbc99-63ae-4d9d-b147-8a16b65968f6",
   "metadata": {},
   "outputs": [],
   "source": []
  }
 ],
 "metadata": {
  "kernelspec": {
   "display_name": "Python 3 (ipykernel)",
   "language": "python",
   "name": "python3"
  },
  "language_info": {
   "codemirror_mode": {
    "name": "ipython",
    "version": 3
   },
   "file_extension": ".py",
   "mimetype": "text/x-python",
   "name": "python",
   "nbconvert_exporter": "python",
   "pygments_lexer": "ipython3",
   "version": "3.8.10"
  }
 },
 "nbformat": 4,
 "nbformat_minor": 5
}
