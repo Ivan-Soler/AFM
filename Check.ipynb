{
 "cells": [
  {
   "cell_type": "code",
   "execution_count": 16,
   "id": "d5177130-9f63-403d-9b0e-cf3e6b92847d",
   "metadata": {},
   "outputs": [],
   "source": [
    "import matplotlib.pyplot as plt\n",
    "import numpy as np\n",
    "import analyzer\n",
    "import Compare\n",
    "import Read\n",
    "import re\n",
    "import os\n",
    "import matplotlib.patches as mpatches\n",
    "from matplotlib.lines import Line2D\n",
    "import importlib\n",
    "importlib.reload(Compare)\n",
    "importlib.reload(analyzer)\n",
    "importlib.reload(Read)\n",
    "plt.rcParams['text.usetex'] = True\n",
    "plt.rcParams.update({'font.size': 16})"
   ]
  },
  {
   "cell_type": "code",
   "execution_count": 15,
   "id": "51ac335a-a7d0-4b6b-9600-a76769dfa45b",
   "metadata": {},
   "outputs": [
    {
     "ename": "TypeError",
     "evalue": "GM_RPO_cut() takes 8 positional arguments but 9 were given",
     "output_type": "error",
     "traceback": [
      "\u001b[0;31m---------------------------------------------------------------------------\u001b[0m",
      "\u001b[0;31mTypeError\u001b[0m                                 Traceback (most recent call last)",
      "\u001b[0;32m/tmp/ipykernel_27688/3033055317.py\u001b[0m in \u001b[0;36m<module>\u001b[0;34m\u001b[0m\n\u001b[1;32m     20\u001b[0m \u001b[0;34m\u001b[0m\u001b[0m\n\u001b[1;32m     21\u001b[0m \u001b[0;31m#Compare.Index_dic(folder,lambdas, conf)\u001b[0m\u001b[0;34m\u001b[0m\u001b[0;34m\u001b[0m\u001b[0;34m\u001b[0m\u001b[0m\n\u001b[0;32m---> 22\u001b[0;31m \u001b[0mCompare\u001b[0m\u001b[0;34m.\u001b[0m\u001b[0mGM_RPO_cut\u001b[0m\u001b[0;34m(\u001b[0m\u001b[0mfolder\u001b[0m\u001b[0;34m,\u001b[0m\u001b[0msizes\u001b[0m\u001b[0;34m,\u001b[0m\u001b[0mmax_modes\u001b[0m\u001b[0;34m,\u001b[0m\u001b[0mcolors\u001b[0m\u001b[0;34m,\u001b[0m\u001b[0mspin_length\u001b[0m\u001b[0;34m,\u001b[0m\u001b[0mconf\u001b[0m\u001b[0;34m,\u001b[0m\u001b[0mlambdas\u001b[0m\u001b[0;34m,\u001b[0m\u001b[0mRPO_threshold\u001b[0m\u001b[0;34m,\u001b[0m\u001b[0mmax_modes\u001b[0m\u001b[0;34m)\u001b[0m\u001b[0;34m\u001b[0m\u001b[0;34m\u001b[0m\u001b[0m\n\u001b[0m\u001b[1;32m     23\u001b[0m \u001b[0;34m\u001b[0m\u001b[0m\n\u001b[1;32m     24\u001b[0m \u001b[0;31m#Compare.GM_RPO_modes(folder,sizes,max_modes,colors,spin_length,conf_start,conf_end,conf_step,RPO_threshold)\u001b[0m\u001b[0;34m\u001b[0m\u001b[0;34m\u001b[0m\u001b[0;34m\u001b[0m\u001b[0m\n",
      "\u001b[0;31mTypeError\u001b[0m: GM_RPO_cut() takes 8 positional arguments but 9 were given"
     ]
    }
   ],
   "source": [
    "plt.rcParams.update({'font.size': 16})\n",
    "\n",
    "folder=\"../4x4x4x32/b2p44_new/gf_afm_2p0t/\"\n",
    "sizes=[4,4,4,32]\n",
    "max_modes=8\n",
    "colors=3\n",
    "spin_length=4\n",
    "\n",
    "conf_start=10\n",
    "conf_end=500\n",
    "conf_step=10\n",
    "conf=np.arange(conf_start,conf_end,conf_step)\n",
    "\n",
    "lambda_min=0.01\n",
    "lambda_max=0.20\n",
    "steps=20\n",
    "lambdas=np.linspace(lambda_min,lambda_max,num=steps)\n",
    "max_modes=8\n",
    "RPO_threshold=0.15\n",
    "\n",
    "#Compare.Index_dic(folder,lambdas, conf)\n",
    "Compare.GM_RPO_cut(folder,sizes,max_modes,colors,spin_length,conf,lambdas,RPO_threshold)\n",
    "\n",
    "#Compare.GM_RPO_modes(folder,sizes,max_modes,colors,spin_length,conf_start,conf_end,conf_step,RPO_threshold)\n"
   ]
  },
  {
   "cell_type": "code",
   "execution_count": null,
   "id": "3ba25efc-c569-4ae6-bd7d-9ffe05020b4c",
   "metadata": {},
   "outputs": [],
   "source": []
  }
 ],
 "metadata": {
  "kernelspec": {
   "display_name": "Python 3 (ipykernel)",
   "language": "python",
   "name": "python3"
  },
  "language_info": {
   "codemirror_mode": {
    "name": "ipython",
    "version": 3
   },
   "file_extension": ".py",
   "mimetype": "text/x-python",
   "name": "python",
   "nbconvert_exporter": "python",
   "pygments_lexer": "ipython3",
   "version": "3.8.12"
  }
 },
 "nbformat": 4,
 "nbformat_minor": 5
}
